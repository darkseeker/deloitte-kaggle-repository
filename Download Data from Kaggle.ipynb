{
 "cells": [
  {
   "cell_type": "markdown",
   "id": "broken-collapse",
   "metadata": {},
   "source": [
    "#### This note book is to download the data set from Kaggle to the local machine and then upload the extracted data to s3 bucket"
   ]
  },
  {
   "cell_type": "markdown",
   "id": "affiliated-spectacular",
   "metadata": {},
   "source": [
    "We need these steps for our task \n",
    "\n",
    "1. Install kaggle cli\n",
    "2. Download file from Kaggle to the local box\n",
    "3. Copy local file to Amazon S3\n",
    "\n",
    "\n",
    "Author: VK"
   ]
  },
  {
   "cell_type": "code",
   "execution_count": 2,
   "id": "minimal-horse",
   "metadata": {
    "scrolled": true
   },
   "outputs": [
    {
     "name": "stdout",
     "output_type": "stream",
     "text": [
      "Collecting kaggle\n",
      "  Downloading kaggle-1.5.10.tar.gz (59 kB)\n",
      "\u001b[K     |████████████████████████████████| 59 kB 1.6 MB/s  eta 0:00:01\n",
      "\u001b[?25hRequirement already satisfied: six>=1.10 in /home/ec2-user/anaconda3/envs/python3/lib/python3.6/site-packages (from kaggle) (1.15.0)\n",
      "Requirement already satisfied: certifi in /home/ec2-user/anaconda3/envs/python3/lib/python3.6/site-packages (from kaggle) (2020.12.5)\n",
      "Requirement already satisfied: python-dateutil in /home/ec2-user/anaconda3/envs/python3/lib/python3.6/site-packages (from kaggle) (2.8.1)\n",
      "Requirement already satisfied: requests in /home/ec2-user/anaconda3/envs/python3/lib/python3.6/site-packages (from kaggle) (2.25.1)\n",
      "Requirement already satisfied: tqdm in /home/ec2-user/anaconda3/envs/python3/lib/python3.6/site-packages (from kaggle) (4.42.1)\n",
      "Requirement already satisfied: urllib3 in /home/ec2-user/anaconda3/envs/python3/lib/python3.6/site-packages (from kaggle) (1.26.2)\n",
      "Collecting python-slugify\n",
      "  Downloading python-slugify-4.0.1.tar.gz (11 kB)\n",
      "Collecting text-unidecode>=1.3\n",
      "  Downloading text_unidecode-1.3-py2.py3-none-any.whl (78 kB)\n",
      "\u001b[K     |████████████████████████████████| 78 kB 889 kB/s  eta 0:00:01\n",
      "\u001b[?25hRequirement already satisfied: idna<3,>=2.5 in /home/ec2-user/anaconda3/envs/python3/lib/python3.6/site-packages (from requests->kaggle) (2.10)\n",
      "Requirement already satisfied: chardet<5,>=3.0.2 in /home/ec2-user/anaconda3/envs/python3/lib/python3.6/site-packages (from requests->kaggle) (4.0.0)\n",
      "Building wheels for collected packages: kaggle, python-slugify\n",
      "  Building wheel for kaggle (setup.py) ... \u001b[?25ldone\n",
      "\u001b[?25h  Created wheel for kaggle: filename=kaggle-1.5.10-py3-none-any.whl size=73269 sha256=a2ae8bd6bf59ca0228e234752ebeb041590dbede28db871557e1bbd3ee157b29\n",
      "  Stored in directory: /home/ec2-user/.cache/pip/wheels/1c/dd/dd/c493e6f981182c1411e288c553310f76e212bac3afbdac1294\n",
      "  Building wheel for python-slugify (setup.py) ... \u001b[?25ldone\n",
      "\u001b[?25h  Created wheel for python-slugify: filename=python_slugify-4.0.1-py2.py3-none-any.whl size=6767 sha256=cfbbdd979cd6fbf9739f57ee326067cda88cdeb1679bdfbeae1b1e8ca0f43f0b\n",
      "  Stored in directory: /home/ec2-user/.cache/pip/wheels/72/e6/db/122611605e60148f54ee2abaca98b2bbeafc6e22486a867bad\n",
      "Successfully built kaggle python-slugify\n",
      "Installing collected packages: text-unidecode, python-slugify, kaggle\n",
      "Successfully installed kaggle-1.5.10 python-slugify-4.0.1 text-unidecode-1.3\n",
      "\u001b[33mWARNING: You are using pip version 20.3.3; however, version 21.0.1 is available.\n",
      "You should consider upgrading via the '/home/ec2-user/anaconda3/envs/python3/bin/python -m pip install --upgrade pip' command.\u001b[0m\n"
     ]
    }
   ],
   "source": [
    "!pip install kaggle"
   ]
  },
  {
   "cell_type": "code",
   "execution_count": null,
   "id": "completed-diagram",
   "metadata": {},
   "outputs": [],
   "source": [
    "import kagglele"
   ]
  },
  {
   "cell_type": "code",
   "execution_count": 6,
   "id": "chinese-short",
   "metadata": {},
   "outputs": [
    {
     "data": {
      "text/plain": [
       "'/home/ec2-user/SageMaker'"
      ]
     },
     "execution_count": 6,
     "metadata": {},
     "output_type": "execute_result"
    }
   ],
   "source": [
    "#Moving the Kaggle credentials for accessing data download API to the root location\n",
    "\n",
    "mkdir ~/.kaggle\n",
    "mv /home/ec2-user/SageMaker/kaggle.json ~/.kaggle/kaggle.json"
   ]
  },
  {
   "cell_type": "code",
   "execution_count": 9,
   "id": "sound-enzyme",
   "metadata": {},
   "outputs": [],
   "source": [
    "#Modify the credential file so that it is not readable by others\n",
    "\n",
    "!chmod 600 /home/ec2-user/.kaggle/kaggle.json"
   ]
  },
  {
   "cell_type": "code",
   "execution_count": 12,
   "id": "indoor-artist",
   "metadata": {
    "scrolled": true
   },
   "outputs": [
    {
     "name": "stdout",
     "output_type": "stream",
     "text": [
      "ref                                                       title                                         size  lastUpdated          downloadCount  voteCount  usabilityRating  \r\n",
      "--------------------------------------------------------  -------------------------------------------  -----  -------------------  -------------  ---------  ---------------  \r\n",
      "gpreda/reddit-wallstreetsbets-posts                       Reddit WallStreetBets Posts                    8MB  2021-02-19 07:57:28           1299        212  1.0              \r\n",
      "michau96/restaurant-business-rankings-2020                Restaurant Business Rankings 2020             16KB  2021-01-30 14:20:45           2142         65  1.0              \r\n",
      "yorkehead/stock-market-subreddits                         Stock Market Subreddits                        1MB  2021-01-29 13:53:50            233         17  1.0              \r\n",
      "aagghh/crypto-telegram-groups                             Crypto telegram groups                       297MB  2021-02-02 09:58:25            150         17  1.0              \r\n",
      "timoboz/superbowl-history-1967-2020                       Superbowl History 1967 - 2020                  2KB  2020-02-03 23:41:14           4559        199  1.0              \r\n",
      "prondeau/superbowlads                                     Super Bowl Ads                                36KB  2020-02-04 18:04:07           1201         59  1.0              \r\n",
      "jessemostipak/african-american-achievements               African American Achievements                 28KB  2020-06-08 22:15:20            216         16  0.8235294        \r\n",
      "iainmcintosh/wsb-gme-reddit-submission-vs-stock-price     WSB / GME Reddit submission vs stock price   210KB  2021-01-30 15:31:16             60          3  0.29411766       \r\n",
      "docsouth-data/north-american-slave-narratives             North American Slave Narratives               42MB  2017-08-14 18:54:00            193         17  0.7647059        \r\n",
      "docsouth-data/the-church-in-the-southern-black-community  The Church in the Southern Black Community    28MB  2017-08-14 19:50:28            119         12  0.7058824        \r\n",
      "shivamb/netflix-shows                                     Netflix Movies and TV Shows                    1MB  2021-01-18 16:20:26          92842       3461  1.0              \r\n",
      "gpreda/covid-world-vaccination-progress                   COVID-19 World Vaccination Progress           76KB  2021-02-19 07:58:09          13715        696  1.0              \r\n",
      "ayushggarg/all-trumps-twitter-insults-20152021            All Trump's Twitter insults (2015-2021)      581KB  2021-01-20 16:51:05           3242        333  1.0              \r\n",
      "arashnic/hr-analytics-job-change-of-data-scientists       HR Analytics: Job Change of Data Scientists  295KB  2020-12-07 00:25:10           8511        510  1.0              \r\n",
      "jsphyg/weather-dataset-rattle-package                     Rain in Australia                              4MB  2020-12-11 10:26:12          33638        686  1.0              \r\n",
      "sakshigoyal7/credit-card-customers                        Credit Card customers                        379KB  2020-11-19 07:38:44          25973        899  1.0              \r\n",
      "gregorut/videogamesales                                   Video Game Sales                             381KB  2016-10-26 09:10:49         192054       3190  0.5882353        \r\n",
      "gpreda/pfizer-vaccine-tweets                              Pfizer Vaccine Tweets                        945KB  2021-02-19 07:59:02           4335        287  1.0              \r\n",
      "datasnaek/youtube-new                                     Trending YouTube Video Statistics            201MB  2019-06-03 00:56:47         127834       3601  0.7941176        \r\n",
      "google/tinyquickdraw                                      QuickDraw Sketches                            11GB  2018-04-18 19:38:04           2836        345  0.8125           \r\n"
     ]
    }
   ],
   "source": [
    "#List of available datasets on Kaggle\n",
    "\n",
    "!kaggle datasets list"
   ]
  },
  {
   "cell_type": "code",
   "execution_count": 13,
   "id": "adult-alloy",
   "metadata": {},
   "outputs": [
    {
     "name": "stdout",
     "output_type": "stream",
     "text": [
      "Downloading vinbigdata-chest-xray-abnormalities-detection.zip to /home/ec2-user/SageMaker\n",
      "100%|█████████████████████████████████████▉| 142G/142G [1:17:00<00:00, 33.2MB/s]\n",
      "100%|██████████████████████████████████████| 142G/142G [1:17:00<00:00, 32.9MB/s]\n"
     ]
    }
   ],
   "source": [
    "#Download the vinbigdata-chest-xray-abnormalities-detection dataset to sagemaker instance\n",
    "\n",
    "!kaggle competitions download -c vinbigdata-chest-xray-abnormalities-detection"
   ]
  },
  {
   "cell_type": "code",
   "execution_count": 15,
   "id": "understanding-ministry",
   "metadata": {
    "scrolled": true
   },
   "outputs": [
    {
     "name": "stdout",
     "output_type": "stream",
     "text": [
      "Completed 113.5 GiB/141.5 GiB (31.4 MiB/s) with 1 file(s) remaining                          g  ng         g  ng                 g  ng  ing  ning  ining       g  ng  ing  ning  ining  aining  maining  emaining  remaining   remaining         g          g  ng  ing  ning  ining  aining  maining        g  ng        g  ng  ing  ning  ining          g     g  ng  ing                     g  ng  ing         g       g  ng  ing  ning  ining  aining  maining     g  ng     g  ng  ing  ning             g  ng  ing      g  ng  ing  ning  ining  aining  maining  emaining  remaining   remaining  ) remaining  s) remaining  (s) remaining  e(s) remaining  le(s) remaining  ile(s) remaining  file(s) remaining   file(s) remaining          g  ng  ing  ning  ining  aining  maining  emaining  remaining   remaining  ) remaining  s) remaining  (s) remaining  e(s) remaining  le(s) remaining  ile(s) remaining  file(s) remaining   file(s) remaining  1 file(s) remaining   1 file(s) remaining  h 1 file(s) remaining  th 1 file(s) remaining  ith 1 file(s) remaining  with 1 file(s) remaining   with 1 file(s) remaining      g  ng  ing  ning  ining  aining  maining  emaining  remaining   remaining  ) remaining          g      g  ng  ing  ning  ining  aining  maining  emaining  remaining          g  ng     g  ng  ing  ning     g  ng  ing  ning  ining  aining           g     g         g  ng  ing  ning  ining  aining  maining  emaining  remaining   remaining  ) remaining  s) remaining  (s) remaining        g     g  ng  ing  ning  ining  aining  maining  emaining  remaining   remaining  ) remaining  s) remaining  (s) remaining  e(s) remaining  le(s) remaining  ile(s) remaining  file(s) remaining     g  ng  ing           g     g     g  ng  ing     g  ng     g     g     g  ng  ing  ning  ining  aining  maining  emaining  remaining   remaining  ) remaining  s) remaining  (s) remaining  e(s) remaining  le(s) remaining  ile(s) remaining  file(s) remaining   file(s) remaining  1 file(s) remaining   1 file(s) remaining  h 1 file(s) remaining  th 1 file(s) remaining  ith 1 file(s) remaining  with 1 file(s) remaining   with 1 file(s) remaining  ) with 1 file(s) remaining  s) with 1 file(s) remaining  /s) with 1 file(s) remaining  B/s) with 1 file(s) remaining           g  ng  ing  ning  ining     g  ng  ing       g  ng  ing  ning  ining  aining  maining  emaining  remaining     g  ng      g  ng  ing     g  ng     g     g  ng  ing  ning  ining  maining  emaining  remaining   remaining  ) remaining       g     g ng ing ning ining aining maining emaining remaining  remaining ) remaining s) remaining (s) remaining e(s) remaining le(s) remaining ile(s) remaining file(s) remaining  file(s) remaining 1 file(s) remaining  1 file(s) remaining h 1 file(s) remaining th 1 file(s) remaining ith 1 file(s) remaining with 1 file(s) remaining  with 1 file(s) remaining ) with 1 file(s) remaining s) with 1 file(s) remaining /s) with 1 file(s) remaining B/s) with 1 file(s) remaining iB/s) with 1 file(s) remaining MiB/s) with 1 file(s) remaining  MiB/s) with 1 file(s) remaining  g ng ing ning ining aining maining  g ng ing ning   g ng ing ning ining aining maining emaining remaining  remaining ) remaining s) remaining (s) remaining e(s) remaining  g  g  g ng ing ning ining aining maining emaining   g ng ing ning ining aining  g  g  g ng ing ning ining aining maining emaining remaining  remaining  g ng ing ning ining aining maining emaining remaining  remaining ) remaining s) remaining (s) remaining e(s) remaining le(s) remaining ile(s) remaining file(s) remaining  file(s) remaining 1 file(s) remaining  1 file(s) remaining  g ng ing ning ining aining maining emaining remaining  remaining ) remaining s) remaining (s) remaining e(s) remaining le(s) remaining ile(s) remaining file(s) remaining  file(s) remaining 1 file(s) remaining  1 file(s) remaining h 1 file(s) remaining th 1 file(s) remaining ith 1 file(s) remaining with 1 file(s) remaining  with 1 file(s) remaining ) with 1 file(s) remaining s) with 1 file(s) remaining     g ng ing ning ining  g    g ng  g  g ng ing ning    g ng ing ning ining aining maining emaining remaining  g ng ing ning ining aining maining emaining remaining  remaining ) remaining s) remaining (s) remaining e(s) remaining le(s) remaining ile(s) remaining file(s) remaining  file(s) remaining 1 file(s) remaining  1 file(s) remaining h 1 file(s) remaining th 1 file(s) remaining ith 1 file(s) remaining with 1 file(s) remaining  with 1 file(s) remaining ) with 1 file(s) remaining s) with 1 file(s) remaining /s) with 1 file(s) remaining B/s) with 1 file(s) remaining iB/s) with 1 file(s) remaining  g  g ng ing ning ining aining maining emaining remaining  remaining ) remaining s) remaining   g ng  g ng ing ning ining aining maining emaining  g ng ing ning  g   g ng ing ning ining aining maining emaining remaining  remaining ) remaining s) remaining (s) remaining e(s) remaining le(s) remaining ile(s) remaining file(s) remaining  file(s) remaining 1 file(s) remaining  1 file(s) remaining h 1 file(s) remaining th 1 file(s) remaining  g ng  g ng ing ning ining aining maining emaining remaining  remaining ) remaining s) remaining (s) remaining e(s) remaining le(s) remaining ile(s) remaining file(s) remaining  file(s) remaining  g ng ing ning  g ng ing ning ining aining  g ng ing ning ining aining maining emaining remaining  remaining ) remaining s) remaining (s) remaining e(s) remaining le(s) remaining ile(s) remaining file(s) remaining  file(s) remaining 1 file(s) remaining  1 file(s) remaining h 1 file(s) remaining th 1 file(s) remaining ith 1 file(s) remaining with 1 file(s) remaining  with 1 file(s) remaining ) with 1 file(s) remaining s) with 1 file(s) remaining /s) with 1 file(s) remaining B/s) with 1 file(s) remaining iB/s) with 1 file(s) remaining MiB/s) with 1 file(s) remaining  MiB/s) with 1 file(s) remaining 4 MiB/s) with 1 file(s) remaining    g ng ing   g ing   g ng  g ng ing ning ining  g ng ing ning ining aining maining emaining remaining  remaining ) remaining s) remaining (s) remaining e(s) remaining le(s) remaining ile(s) remaining file(s) remaining  file(s) remaining 1 file(s) remaining  1 file(s) remaining   g  g  g ng ing   g ng ing ning ining aining maining emaining remaining  g ng ing ning   g ng ing ning ining  g ng    g ng ing ning ining aining maining emaining   g  g ng ing ning ining aining maining emaining remaining  remaining ) remaining s) remaining (s) remaining e(s) remaining le(s) remaining ile(s) remaining file(s) remaining  g ng   g ng  g ng ing ning ining aining maining emaining remaining  remaining ) remaining s) remaining (s) remaining e(s) remaining le(s) remaining ile(s) remaining file(s) remaining  file(s) remaining 1 file(s) remaining  1 file(s) remaining h 1 file(s) remaining th 1 file(s) remaining ith 1 file(s) remaining with 1 file(s) remaining  with 1 file(s) remaining ) with 1 file(s) remaining s) with 1 file(s) remaining /s) with 1 file(s) remaining B/s) with 1 file(s) remaining iB/s) with 1 file(s) remaining MiB/s) with 1 file(s) remaining  MiB/s) with 1 file(s) remaining 5 MiB/s) with 1 file(s) remaining .5 MiB/s) with 1 file(s) remaining 1.5 MiB/s) with 1 file(s) remaining 31.5 MiB/s) with 1 file(s) remaining (31.5 MiB/s) with 1 file(s) remaining  (31.5 MiB/s) with 1 file(s) remaining B (31.5 MiB/s) with 1 file(s) remaining iB (31.5 MiB/s) with 1 file(s) remaining GiB (31.5 MiB/s) with 1 file(s) remaining  GiB (31.5 MiB/s) with 1 file(s) remaining 5 GiB (31.5 MiB/s) with 1 file(s) remaining .5 GiB (31.5 MiB/s) with 1 file(s) remaining 1.5 GiB (31.5 MiB/s) with 1 file(s) remaining 41.5 GiB (31.5 MiB/s) with 1 file(s) remaining 141.5 GiB (31.5 MiB/s) with 1 file(s) remaining /141.5 GiB (31.5 MiB/s) with 1 file(s) remaining B/141.5 GiB (31.5 MiB/s) with 1 file(s) remaining  g ng ing  g ng ing ning ining aining maining emaining remaining  remaining ) remaining s) remaining (s) remaining e(s) remaining le(s) remaining ile(s) remaining file(s) remaining  file(s) remaining 1 file(s) remaining  1 file(s) remaining h 1 file(s) remaining th 1 file(s) remaining ith 1 file(s) remaining with 1 file(s) remaining  with 1 file(s) remaining ) with 1 file(s) remaining Completed 121.0 GiB/141.5 GiB (31.3 MiB/s) with 1 file(s) remaining B/s) with 1 file(s) remaining iB/s) with 1 file(s) remaining MiB/s) with 1 file(s) remaining  MiB/s) with 1 file(s) remaining 4 MiB/s) with 1 file(s) remaining .4 MiB/s) with 1 file(s) remaining 1.4 MiB/s) with 1 file(s) remaining 31.4 MiB/s) with 1 file(s) remaining (31.4 MiB/s) with 1 file(s) remaining  (31.4 MiB/s) with 1 file(s) remaining B (31.4 MiB/s) with 1 file(s) remaining iB (31.4 MiB/s) with 1 file(s) remaining GiB (31.4 MiB/s) with 1 file(s) remaining  GiB (31.4 MiB/s) with 1 file(s) remaining 5 GiB (31.4 MiB/s) with 1 file(s) remaining .5 GiB (31.4 MiB/s) with 1 file(s) remaining 1.5 GiB (31.4 MiB/s) with 1 file(s) remaining 41.5 GiB (31.4 MiB/s) with 1 file(s) remaining 141.5 GiB (31.4 MiB/s) with 1 file(s) remaining /141.5 GiB (31.4 MiB/s) with 1 file(s) remaining B/141.5 GiB (31.4 MiB/s) with 1 file(s) remaining iB/141.5 GiB (31.4 MiB/s) with 1 file(s) remaining GiB/141.5 GiB (31.4 MiB/s) with 1 file(s) remaining  GiB/141.5 GiB (31.4 MiB/s) with 1 file(s) remaining 7 GiB/141.5 GiB (31.4 MiB/s) with 1 file(s) remaining .7 GiB/141.5 GiB (31.4 MiB/s) with 1 file(s) remaining 3.7 GiB/141.5 GiB (31.4 MiB/s) with 1 file(s) remaining 13.7 GiB/141.5 GiB (31.4 MiB/s) with 1 file(s) remaining 113.7 GiB/141.5 GiB (31.4 MiB/s) with 1 file(s) remaining  113.8 GiB/141.5 GiB (31.4 MiB/s) with 1 file(s) remaining d 113.8 GiB/141.5 GiB (31.4 MiB/s) with 1 file(s) remaining ed 113.8 GiB/141.5 GiB (31.4 MiB/s) with 1 file(s) remaining ted 113.8 GiB/141.5 GiB (31.4 MiB/s) with 1 file(s) remaining eted 113.8 GiB/141.5 GiB (31.4 MiB/s) with 1 file(s) remaining leted 113.8 GiB/141.5 GiB (31.4 MiB/s) with 1 file(s) remaining pleted 113.8 GiB/141.5 GiB (31.4 MiB/s) with 1 file(s) remaining mpleted 113.8 GiB/141.5 GiB (31.4 MiB/s) with 1 file(s) remaining ompleted 113.8 GiB/141.5 GiB (31.4 MiB/s) with 1 file(s) remaining  g ng ing ning ining aining maining emaining remaining  remaining ) remaining s) remaining (s) remaining e(s) remaining le(s) remaining ile(s) remaining file(s) remaining  file(s) remaining 1 file(s) remaining  1 file(s) remaining h 1 file(s) remaining th 1 file(s) remaining ith 1 file(s) remaining with 1 file(s) remaining  with 1 file(s) remaining ) with 1 file(s) remaining s) with 1 file(s) remaining /s) with 1 file(s) remaining B/s) with 1 file(s) remaining iB/s) with 1 file(s) remaining MiB/s) with 1 file(s) remaining  MiB/s) with 1 file(s) remaining 3 MiB/s) with 1 file(s) remaining .3 MiB/s) with 1 file(s) remaining 1.3 MiB/s) with 1 file(s) remaining 31.3 MiB/s) with 1 file(s) remaining (31.3 MiB/s) with 1 file(s) remaining  (31.3 MiB/s) with 1 file(s) remaining B (31.3 MiB/s) with 1 file(s) remaining iB (31.3 MiB/s) with 1 file(s) remaining  g ng ing ning ining aining maining emaining remaining  remaining ) remaining s) remaining (s) remaining e(s) remaining le(s) remaining ile(s) remaining file(s) remaining  file(s) remaining 1 file(s) remaining  1 file(s) remaining h 1 file(s) remaining th 1 file(s) remaining ith 1 file(s) remaining with 1 file(s) remaining  with 1 file(s) remaining ) with 1 file(s) remaining s) with 1 file(s) remaining /s) with 1 file(s) remaining B/s) with 1 file(s) remaining iB/s) with 1 file(s) remaining MiB/s) with 1 file(s) remaining  MiB/s) with 1 file(s) remaining 3 MiB/s) with 1 file(s) remaining .3 MiB/s) with 1 file(s) remaining 1.3 MiB/s) with 1 file(s) remaining 31.3 MiB/s) with 1 file(s) remaining (31.3 MiB/s) with 1 file(s) remaining  (31.3 MiB/s) with 1 file(s) remaining B (31.3 MiB/s) with 1 file(s) remaining iB (31.3 MiB/s) with 1 file(s) remaining GiB (31.3 MiB/s) with 1 file(s) remaining  GiB (31.3 MiB/s) with 1 file(s) remaining 5 GiB (31.3 MiB/s) with 1 file(s) remaining .5 GiB (31.3 MiB/s) with 1 file(s) remaining 1.5 GiB (31.3 MiB/s) with 1 file(s) remaining 41.5 GiB (31.3 MiB/s) with 1 file(s) remaining 141.5 GiB (31.3 MiB/s) with 1 file(s) remaining /141.5 GiB (31.3 MiB/s) with 1 file(s) remaining B/141.5 GiB (31.3 MiB/s) with 1 file(s) remaining iB/141.5 GiB (31.3 MiB/s) with 1 file(s) remaining GiB/141.5 GiB (31.3 MiB/s) with 1 file(s) remaining  GiB/141.5 GiB (31.3 MiB/s) with 1 file(s) remaining 6 GiB/141.5 GiB (31.3 MiB/s) with 1 file(s) remaining .6 GiB/141.5 GiB (31.3 MiB/s) with 1 file(s) remaining 4.6 GiB/141.5 GiB (31.3 MiB/s) with 1 file(s) remaining 14.6 GiB/141.5 GiB (31.3 MiB/s) with 1 file(s) remaining 114.6 GiB/141.5 GiB (31.3 MiB/s) with 1 file(s) remaining  114.6 GiB/141.5 GiB (31.3 MiB/s) with 1 file(s) remaining   g  g      g ng ing ning ining  g ng ing ning ining aining maining   g ng ing  g   g ng   g  g   g ng ing ning ining  g ng ing ning ining aining maining emaining remaining  remaining ) remaining s) remaining (s) remaining e(s) remaining le(s) remaining ile(s) remaining file(s) remaining  file(s) remaining 1 file(s) remaining  1 file(s) remaining h 1 file(s) remaining th 1 file(s) remaining ith 1 file(s) remaining with 1 file(s) remaining  with 1 file(s) remaining ) with 1 file(s) remaining s) with 1 file(s) remaining /s) with 1 file(s) remaining B/s) with 1 file(s) remaining iB/s) with 1 file(s) remaining MiB/s) with 1 file(s) remaining  MiB/s) with 1 file(s) remaining 5 MiB/s) with 1 file(s) remaining .5 MiB/s) with 1 file(s) remaining 1.5 MiB/s) with 1 file(s) remaining 31.5 MiB/s) with 1 file(s) remaining (31.5 MiB/s) with 1 file(s) remaining  (31.5 MiB/s) with 1 file(s) remaining B (31.5 MiB/s) with 1 file(s) remaining iB (31.5 MiB/s) with 1 file(s) remaining GiB (31.5 MiB/s) with 1 file(s) remaining  GiB (31.5 MiB/s) with 1 file(s) remaining 5 GiB (31.5 MiB/s) with 1 file(s) remaining .5 GiB (31.5 MiB/s) with 1 file(s) remaining 1.5 GiB (31.5 MiB/s) with 1 file(s) remaining 41.5 GiB (31.5 MiB/s) with 1 file(s) remaining 141.5 GiB (31.5 MiB/s) with 1 file(s) remaining /141.5 GiB (31.5 MiB/s) with 1 file(s) remaining B/141.5 GiB (31.5 MiB/s) with 1 file(s) remaining iB/141.5 GiB (31.5 MiB/s) with 1 file(s) remaining  g ng ing ning ining aining maining   g  g ng ing ning ining aining maining emaining remaining  g  g ng ing ning ining aining maining emaining remaining  remaining ) remaining s) remaining (s) remaining e(s) remaining le(s) remaining ile(s) remaining file(s) remaining  file(s) remaining 1 file(s) remaining  1 file(s) remaining h 1 file(s) remaining th 1 file(s) remaining  g ng ing ning ining aining maining emaining remaining  remaining ) remaining s) remaining (s) remaining  g    g ng ing ning ining aining maining emaining remaining  remaining ) remaining s) remaining (s) remaining e(s) remaining le(s) remaining ile(s) remaining file(s) remaining  file(s) remaining 1 file(s) remaining  1 file(s) remaining h 1 file(s) remaining th 1 file(s) remaining ith 1 file(s) remaining with 1 file(s) remaining  with 1 file(s) remaining ) with 1 file(s) remaining s) with 1 file(s) remaining /s) with 1 file(s) remaining B/s) with 1 file(s) remaining iB/s) with 1 file(s) remaining MiB/s) with 1 file(s) remaining  MiB/s) with 1 file(s) remaining 4 MiB/s) with 1 file(s) remaining .4 MiB/s) with 1 file(s) remaining 1.3 MiB/s) with 1 file(s) remaining 31.3 MiB/s) with 1 file(s) remaining (31.3 MiB/s) with 1 file(s) remaining  (31.3 MiB/s) with 1 file(s) remaining B (31.3 MiB/s) with 1 file(s) remaining iB (31.3 MiB/s) with 1 file(s) remaining GiB (31.3 MiB/s) with 1 file(s) remaining  GiB (31.3 MiB/s) with 1 file(s) remaining 5 GiB (31.3 MiB/s) with 1 file(s) remaining .5 GiB (31.3 MiB/s) with 1 file(s) remaining 1.5 GiB (31.3 MiB/s) with 1 file(s) remaining 41.5 GiB (31.3 MiB/s) with 1 file(s) remaining 141.5 GiB (31.3 MiB/s) with 1 file(s) remaining /141.5 GiB (31.3 MiB/s) with 1 file(s) remaining B/141.5 GiB (31.3 MiB/s) with 1 file(s) remaining iB/141.5 GiB (31.3 MiB/s) with 1 file(s) remaining GiB/141.5 GiB (31.3 MiB/s) with 1 file(s) remaining  GiB/141.5 GiB (31.3 MiB/s) with 1 file(s) remaining 9 GiB/141.5 GiB (31.3 MiB/s) with 1 file(s) remaining .9 GiB/141.5 GiB (31.3 MiB/s) with 1 file(s) remaining 0.9 GiB/141.5 GiB (31.3 MiB/s) with 1 file(s) remaining 20.9 GiB/141.5 GiB (31.3 MiB/s) with 1 file(s) remaining 120.9 GiB/141.5 GiB (31.3 MiB/s) with 1 file(s) remaining  121.0 GiB/141.5 GiB (31.3 MiB/s) with 1 file(s) remaining Completed 128.7 GiB/141.5 GiB (31.2 MiB/s) with 1 file(s) remaining ted 121.0 GiB/141.5 GiB (31.3 MiB/s) with 1 file(s) remaining eted 121.0 GiB/141.5 GiB (31.3 MiB/s) with 1 file(s) remaining leted 121.0 GiB/141.5 GiB (31.3 MiB/s) with 1 file(s) remaining pleted 121.0 GiB/141.5 GiB (31.3 MiB/s) with 1 file(s) remaining mpleted 121.0 GiB/141.5 GiB (31.3 MiB/s) with 1 file(s) remaining ompleted 121.0 GiB/141.5 GiB (31.3 MiB/s) with 1 file(s) remaining  g ng ing ning ining aining maining emaining remaining  remaining ) remaining s) remaining (s) remaining e(s) remaining le(s) remaining ile(s) remaining file(s) remaining  file(s) remaining 1 file(s) remaining  1 file(s) remaining h 1 file(s) remaining th 1 file(s) remaining ith 1 file(s) remaining with 1 file(s) remaining  with 1 file(s) remaining ) with 1 file(s) remaining s) with 1 file(s) remaining /s) with 1 file(s) remaining B/s) with 1 file(s) remaining iB/s) with 1 file(s) remaining MiB/s) with 1 file(s) remaining  MiB/s) with 1 file(s) remaining 3 MiB/s) with 1 file(s) remaining .3 MiB/s) with 1 file(s) remaining 1.3 MiB/s) with 1 file(s) remaining 31.3 MiB/s) with 1 file(s) remaining (31.3 MiB/s) with 1 file(s) remaining  (31.3 MiB/s) with 1 file(s) remaining B (31.3 MiB/s) with 1 file(s) remaining iB (31.3 MiB/s) with 1 file(s) remaining GiB (31.3 MiB/s) with 1 file(s) remaining  GiB (31.3 MiB/s) with 1 file(s) remaining 5 GiB (31.3 MiB/s) with 1 file(s) remaining .5 GiB (31.3 MiB/s) with 1 file(s) remaining 1.5 GiB (31.3 MiB/s) with 1 file(s) remaining 41.5 GiB (31.3 MiB/s) with 1 file(s) remaining 141.5 GiB (31.3 MiB/s) with 1 file(s) remaining /141.5 GiB (31.3 MiB/s) with 1 file(s) remaining  g ng ing ning ining aining maining emaining remaining  remaining ) remaining s) remaining  g ng ing ning ining aining maining emaining remaining  remaining ) remaining s) remaining (s) remaining e(s) remaining le(s) remaining ile(s) remaining file(s) remaining  file(s) remaining 1 file(s) remaining  1 file(s) remaining h 1 file(s) remaining th 1 file(s) remaining ith 1 file(s) remaining with 1 file(s) remaining  with 1 file(s) remaining ) with 1 file(s) remaining s) with 1 file(s) remaining  g ng ing ning ining aining maining emaining remaining  remaining  g ng ing ning ining aining maining emaining remaining  remaining ) remaining s) remaining (s) remaining e(s) remaining le(s) remaining ile(s) remaining file(s) remaining  file(s) remaining 1 file(s) remaining  1 file(s) remaining h 1 file(s) remaining th 1 file(s) remaining ith 1 file(s) remaining with 1 file(s) remaining  with 1 file(s) remaining ) with 1 file(s) remaining s) with 1 file(s) remaining /s) with 1 file(s) remaining B/s) with 1 file(s) remaining iB/s) with 1 file(s) remaining MiB/s) with 1 file(s) remaining  MiB/s) with 1 file(s) remaining 2 MiB/s) with 1 file(s) remaining .2 MiB/s) with 1 file(s) remaining 1.2 MiB/s) with 1 file(s) remaining 31.2 MiB/s) with 1 file(s) remaining (31.2 MiB/s) with 1 file(s) remaining  (31.2 MiB/s) with 1 file(s) remaining B (31.2 MiB/s) with 1 file(s) remaining iB (31.2 MiB/s) with 1 file(s) remaining GiB (31.2 MiB/s) with 1 file(s) remaining  GiB (31.2 MiB/s) with 1 file(s) remaining 5 GiB (31.2 MiB/s) with 1 file(s) remaining .5 GiB (31.2 MiB/s) with 1 file(s) remaining 1.5 GiB (31.2 MiB/s) with 1 file(s) remaining 41.5 GiB (31.2 MiB/s) with 1 file(s) remaining 141.5 GiB (31.2 MiB/s) with 1 file(s) remaining /141.5 GiB (31.2 MiB/s) with 1 file(s) remaining B/141.5 GiB (31.2 MiB/s) with 1 file(s) remaining iB/141.5 GiB (31.2 MiB/s) with 1 file(s) remaining GiB/141.5 GiB (31.2 MiB/s) with 1 file(s) remaining  GiB/141.5 GiB (31.2 MiB/s) with 1 file(s) remaining 2 GiB/141.5 GiB (31.2 MiB/s) with 1 file(s) remaining .2 GiB/141.5 GiB (31.2 MiB/s) with 1 file(s) remaining 2.2 GiB/141.5 GiB (31.2 MiB/s) with 1 file(s) remaining 22.2 GiB/141.5 GiB (31.2 MiB/s) with 1 file(s) remaining 122.3 GiB/141.5 GiB (31.2 MiB/s) with 1 file(s) remaining  122.3 GiB/141.5 GiB (31.2 MiB/s) with 1 file(s) remaining d 122.3 GiB/141.5 GiB (31.2 MiB/s) with 1 file(s) remaining ed 122.3 GiB/141.5 GiB (31.2 MiB/s) with 1 file(s) remaining ted 122.3 GiB/141.5 GiB (31.2 MiB/s) with 1 file(s) remaining eted 122.3 GiB/141.5 GiB (31.2 MiB/s) with 1 file(s) remaining leted 122.3 GiB/141.5 GiB (31.2 MiB/s) with 1 file(s) remaining pleted 122.3 GiB/141.5 GiB (31.2 MiB/s) with 1 file(s) remaining mpleted 122.3 GiB/141.5 GiB (31.2 MiB/s) with 1 file(s) remaining ompleted 122.3 GiB/141.5 GiB (31.2 MiB/s) with 1 file(s) remaining  g ng ing  g ng ing  g ng ing ning ining aining maining emaining remaining  remaining ) remaining s) remaining (s) remaining e(s) remaining le(s) remaining ile(s) remaining file(s) remaining  file(s) remaining 1 file(s) remaining  1 file(s) remaining h 1 file(s) remaining th 1 file(s) remaining ith 1 file(s) remaining with 1 file(s) remaining  with 1 file(s) remaining ) with 1 file(s) remaining s) with 1 file(s) remaining /s) with 1 file(s) remaining  g ng ing ning ining aining maining  g ng ing ning ining aining maining emaining  g ng ing ning ining aining maining  g ng ing ning ining aining maining emaining  g ng ing ning ining aining maining emaining remaining  remaining ) remaining s) remaining (s) remaining e(s) remaining le(s) remaining ile(s) remaining file(s) remaining  file(s) remaining  g ng ing ning ining aining maining emaining  g ng ing ning ining aining maining emaining remaining  remaining ) remaining s) remaining (s) remaining e(s) remaining le(s) remaining ile(s) remaining file(s) remaining  file(s) remaining 1 file(s) remaining  g ng ing ning ining aining maining  g ng ing ning ining aining maining  g ng ing ning ining aining maining emaining  g ng ing ning ining aining maining emaining  g ng ing ning ining aining maining emaining  g ng ing ning ining aining maining emaining remaining  remaining ) remaining s) remaining (s) remaining e(s) remaining le(s) remaining ile(s) remaining file(s) remaining  file(s) remaining  g ng ing ning ining aining maining emaining  g ng ing ning ining aining maining emaining remaining  remaining ) remaining s) remaining (s) remaining e(s) remaining le(s) remaining ile(s) remaining file(s) remaining  file(s) remaining  g ng  g  g        g ng ing ning ining   g  g   g ng  g ng ing ning ining aining maining emaining remaining  remaining ) remaining s) remaining  g ng ing ning ining aining maining emaining remaining  remaining ) remaining s) remaining (s) remaining e(s) remaining le(s) remaining ile(s) remaining file(s) remaining  file(s) remaining 1 file(s) remaining  1 file(s) remaining h 1 file(s) remaining th 1 file(s) remaining ith 1 file(s) remaining with 1 file(s) remaining  with 1 file(s) remaining ) with 1 file(s) remaining s) with 1 file(s) remaining /s) with 1 file(s) remaining B/s) with 1 file(s) remaining iB/s) with 1 file(s) remaining MiB/s) with 1 file(s) remaining  g  g ng ing  g ng ing ning ining aining maining emaining remaining  remaining ) remaining s) remaining (s) remaining e(s) remaining le(s) remaining ile(s) remaining file(s) remaining  file(s) remaining 1 file(s) remaining  1 file(s) remaining h 1 file(s) remaining th 1 file(s) remaining ith 1 file(s) remaining with 1 file(s) remaining  with 1 file(s) remaining ) with 1 file(s) remaining s) with 1 file(s) remaining /s) with 1 file(s) remaining B/s) with 1 file(s) remaining iB/s) with 1 file(s) remaining MiB/s) with 1 file(s) remaining  MiB/s) with 1 file(s) remaining 2 MiB/s) with 1 file(s) remaining .2 MiB/s) with 1 file(s) remaining 1.2 MiB/s) with 1 file(s) remaining 31.2 MiB/s) with 1 file(s) remaining (31.2 MiB/s) with 1 file(s) remaining  (31.2 MiB/s) with 1 file(s) remaining B (31.2 MiB/s) with 1 file(s) remaining iB (31.2 MiB/s) with 1 file(s) remaining GiB (31.2 MiB/s) with 1 file(s) remaining  GiB (31.2 MiB/s) with 1 file(s) remaining 5 GiB (31.2 MiB/s) with 1 file(s) remaining .5 GiB (31.2 MiB/s) with 1 file(s) remaining 1.5 GiB (31.2 MiB/s) with 1 file(s) remaining 41.5 GiB (31.2 MiB/s) with 1 file(s) remaining 141.5 GiB (31.2 MiB/s) with 1 file(s) remaining /141.5 GiB (31.2 MiB/s) with 1 file(s) remaining B/141.5 GiB (31.2 MiB/s) with 1 file(s) remaining iB/141.5 GiB (31.2 MiB/s) with 1 file(s) remaining Completed 140.5 GiB/141.5 GiB (30.7 MiB/s) with 1 file(s) remaining 7 GiB/141.5 GiB (31.2 MiB/s) with 1 file(s) remaining .7 GiB/141.5 GiB (31.2 MiB/s) with 1 file(s) remaining 8.7 GiB/141.5 GiB (31.2 MiB/s) with 1 file(s) remaining 28.8 GiB/141.5 GiB (31.2 MiB/s) with 1 file(s) remaining 128.8 GiB/141.5 GiB (31.2 MiB/s) with 1 file(s) remaining  128.8 GiB/141.5 GiB (31.2 MiB/s) with 1 file(s) remaining d 128.8 GiB/141.5 GiB (31.2 MiB/s) with 1 file(s) remaining ed 128.8 GiB/141.5 GiB (31.2 MiB/s) with 1 file(s) remaining ted 128.8 GiB/141.5 GiB (31.2 MiB/s) with 1 file(s) remaining eted 128.8 GiB/141.5 GiB (31.2 MiB/s) with 1 file(s) remaining  g ng ing ning ining aining maining emaining  g ng ing ning ining aining maining emaining remaining  remaining ) remaining s) remaining (s) remaining e(s) remaining le(s) remaining ile(s) remaining file(s) remaining  file(s) remaining 1 file(s) remaining  g ng ing ning ining aining maining  g ng ing ning ining aining maining  g ng ing ning ining aining maining  g ng ing ning ining aining maining  g ng ing ning ining aining maining emaining  g ng ing ning ining aining maining  g ng ing ning ining aining maining emaining  g ng ing ning ining aining maining  g ng ing ning ining aining maining emaining  g ng ing ning ining aining maining emaining remaining  remaining ) remaining s) remaining (s) remaining e(s) remaining le(s) remaining ile(s) remaining file(s) remaining  g ng ing ning ining aining maining  g ng ing ning ining aining maining  g ng ing ning ining aining maining emaining remaining  remaining ) remaining s) remaining (s) remaining e(s) remaining le(s) remaining ile(s) remaining file(s) remaining  file(s) remaining  g ng ing ning ining aining maining emaining remaining  remaining ) remaining s) remaining (s) remaining e(s) remaining le(s) remaining ile(s) remaining file(s) remaining  file(s) remaining  g ng ing ning ining aining maining emaining remaining  remaining ) remaining s) remaining (s) remaining e(s) remaining le(s) remaining ile(s) remaining file(s) remaining  g ng ing ning ining aining maining emaining  g ng ing ning ining aining maining  g ng ing ning ining aining maining emaining  g ng ing ning ining aining maining emaining  g ng ing ning ining aining maining emaining remaining  remaining ) remaining s) remaining (s) remaining e(s) remaining le(s) remaining ile(s) remaining file(s) remaining  file(s) remaining 1 file(s) remaining  1 file(s) remaining h 1 file(s) remaining th 1 file(s) remaining ith 1 file(s) remaining with 1 file(s) remaining  with 1 file(s) remaining ) with 1 file(s) remaining s) with 1 file(s) remaining /s) with 1 file(s) remaining B/s) with 1 file(s) remaining iB/s) with 1 file(s) remaining  g ng ing ning ining aining maining  g ng ing ning ining aining maining  g ng ing ning ining aining maining emaining remaining  remaining ) remaining s) remaining (s) remaining e(s) remaining le(s) remaining ile(s) remaining file(s) remaining  g ng ing ning ining aining maining  g ng ing ning ining aining maining  g ng ing ning ining aining maining emaining  g ng ing ning ining aining maining  g ng ing ning ining aining maining emaining remaining  g ng ing ning ining aining maining emaining remaining  remaining ) remaining s) remaining (s) remaining e(s) remaining le(s) remaining ile(s) remaining file(s) remaining  file(s) remaining  g ng ing ning ining aining maining emaining  g ng ing ning ining aining maining  g ng ing ning ining aining maining  g ng ing ning ining aining maining emaining remaining  remaining ) remaining s) remaining (s) remaining e(s) remaining le(s) remaining ile(s) remaining file(s) remaining  file(s) remaining  g ng ing ning ining aining maining emaining  g ng ing ning ining aining maining emaining remaining  remaining ) remaining s) remaining (s) remaining e(s) remaining le(s) remaining ile(s) remaining file(s) remaining  file(s) remaining  g ng ing ning ining aining maining  g  g ng  g  g ng   g ng ing ning ining aining maining emaining remaining  remaining ) remaining s) remaining (s) remaining e(s) remaining  g ng ing  g ng ing ning ining aining maining emaining remaining  remaining ) remaining s) remaining (s) remaining e(s) remaining le(s) remaining ile(s) remaining file(s) remaining  file(s) remaining 1 file(s) remaining  1 file(s) remaining h 1 file(s) remaining th 1 file(s) remaining ith 1 file(s) remaining with 1 file(s) remaining  with 1 file(s) remaining ) with 1 file(s) remaining s) with 1 file(s) remaining  g ng ing ning ining aining maining  g ng ing ning ining aining maining  g ng ing ning ining aining maining emaining  g ng ing ning ining aining maining  g ng ing ning ining aining maining emaining remaining  remaining ) remaining s) remaining (s) remaining e(s) remaining le(s) remaining ile(s) remaining file(s) remaining  g ng ing ning ining aining maining  g ng ing ning ining aining maining emaining remaining  g ng ing ning ining aining maining emaining  g ng ing ning ining aining maining emaining  g ng ing ning ining aining maining emaining  g ng ing ning ining aining maining emaining remaining  remaining ) remaining s) remaining (s) remaining e(s) remaining le(s) remaining ile(s) remaining file(s) remaining  file(s) remaining  g ng ing ning ining aining maining  g ng ing ning ining aining maining emaining  g ng ing ning ining aining maining emaining remaining  g ng ing ning ining aining maining  g ng ing ning ining aining maining emaining remaining  remaining ) remaining s) remaining (s) remaining e(s) remaining le(s) remaining ile(s) remaining file(s) remaining  file(s) remaining 1 file(s) remaining  1 file(s) remaining h 1 file(s) remaining th 1 file(s) remaining ith 1 file(s) remaining with 1 file(s) remaining  with 1 file(s) remaining ) with 1 file(s) remaining s) with 1 file(s) remaining /s) with 1 file(s) remaining  g ng ing ning ining aining maining emaining  g ng ing ning ining aining maining emaining  g ng ing ning ining aining maining emaining  g ng ing ning ining aining maining  g ng ing ning ining aining maining  g ng ing ning ining aining maining emaining  g ng ing ning ining aining maining emaining  g ng ing ning ining aining maining emaining remaining  g ng ing ning ining aining maining  g ng ing ning ining aining maining  g ng ing ning ining aining maining  g ng ing ning ining aining maining  g ng ing ning ining aining maining emaining remaining  remaining ) remaining s) remaining (s) remaining e(s) remaining le(s) remaining ile(s) remaining file(s) remaining  file(s) remaining  g ng ing ning ining aining maining  g ng ing ning ining aining maining emaining remaining  g ng ing ning ining aining maining emaining remaining  remaining ) remaining s) remaining (s) remaining e(s) remaining le(s) remaining ile(s) remaining file(s) remaining  file(s) remaining 1 file(s) remaining  1 file(s) remaining h 1 file(s) remaining th 1 file(s) remaining ith 1 file(s) remaining with 1 file(s) remaining  with 1 file(s) remaining ) with 1 file(s) remaining s) with 1 file(s) remaining /s) with 1 file(s) remaining B/s) with 1 file(s) remaining iB/s) with 1 file(s) remaining  g ng ing ning ining aining maining emaining remaining  g ng ing ning ining aining maining  g ng ing ning ining aining maining  g ng ing ning ining aining maining emaining  g ng ing ning ining aining maining emaining remaining  g ng ing ning ining aining maining emaining remaining  g ng ing ning ining aining maining  g ng ing ning ining aining maining emaining remaining  remaining ) remaining s) remaining (s) remaining e(s) remaining le(s) remaining ile(s) remaining file(s) remaining  g ng ing ning ining aining maining  g ng ing ning ining aining maining emaining  g ng ing ning ining aining maining emaining remaining  g ng ing ning ining aining maining emaining remaining  remaining ) remaining s) remaining (s) remaining e(s) remaining le(s) remaining ile(s) remaining file(s) remaining  file(s) remaining 1 file(s) remaining  1 file(s) remaining h 1 file(s) remaining th 1 file(s) remaining ith 1 file(s) remaining with 1 file(s) remaining  with 1 file(s) remaining ) with 1 file(s) remaining s) with 1 file(s) remaining /s) with 1 file(s) remaining B/s) with 1 file(s) remaining upload: ./vinbigdata-chest-xray-abnormalities-detection.zip to s3://deloitte-kaggle-vinbigdata/rawData/zippedFile/vinbigdata-chest-xray-abnormalities-detection.zipining  remaining   g ng ing ning ining aining emaining remaining  remaining  g maining emaining remaining \n"
     ]
    }
   ],
   "source": [
    "#Move zip file to s3\n",
    "!aws s3 cp /home/ec2-user/SageMaker/vinbigdata-chest-xray-abnormalities-detection.zip s3://deloitte-kaggle-vinbigdata/rawData/zippedFile/"
   ]
  },
  {
   "cell_type": "code",
   "execution_count": null,
   "id": "russian-constitution",
   "metadata": {},
   "outputs": [],
   "source": []
  }
 ],
 "metadata": {
  "kernelspec": {
   "display_name": "conda_python3",
   "language": "python",
   "name": "conda_python3"
  },
  "language_info": {
   "codemirror_mode": {
    "name": "ipython",
    "version": 3
   },
   "file_extension": ".py",
   "mimetype": "text/x-python",
   "name": "python",
   "nbconvert_exporter": "python",
   "pygments_lexer": "ipython3",
   "version": "3.6.10"
  }
 },
 "nbformat": 4,
 "nbformat_minor": 5
}
